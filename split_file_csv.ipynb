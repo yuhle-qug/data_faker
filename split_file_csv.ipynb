{
 "cells": [
  {
   "cell_type": "code",
   "execution_count": 1,
   "id": "71198589",
   "metadata": {},
   "outputs": [],
   "source": [
    "import pandas as pd\n",
    "import numpy as np\n"
   ]
  },
  {
   "cell_type": "code",
   "execution_count": 6,
   "id": "e370a742",
   "metadata": {},
   "outputs": [
    {
     "name": "stderr",
     "output_type": "stream",
     "text": [
      "C:\\Users\\huy37\\AppData\\Roaming\\Python\\Python312\\site-packages\\numpy\\core\\fromnumeric.py:59: FutureWarning: 'DataFrame.swapaxes' is deprecated and will be removed in a future version. Please use 'DataFrame.transpose' instead.\n",
      "  return bound(*args, **kwds)\n"
     ]
    }
   ],
   "source": [
    "\n",
    "# Đọc dữ liệu\n",
    "df = pd.read_csv(\"level_1/passenger.csv\")\n",
    "\n",
    "# Số file muốn chia\n",
    "num_files = 5\n",
    "\n",
    "# Tách ra thành các phần đều nhau\n",
    "chunks = np.array_split(df, num_files)\n",
    "\n",
    "# Lưu từng phần\n",
    "for i, chunk in enumerate(chunks):\n",
    "    chunk.to_csv(f\"level_1/split_data/passenger_{i+1}.csv\", index=False)"
   ]
  },
  {
   "cell_type": "code",
   "execution_count": null,
   "id": "089f309e",
   "metadata": {},
   "outputs": [
    {
     "name": "stderr",
     "output_type": "stream",
     "text": [
      "C:\\Users\\huy37\\AppData\\Roaming\\Python\\Python312\\site-packages\\numpy\\core\\fromnumeric.py:59: FutureWarning: 'DataFrame.swapaxes' is deprecated and will be removed in a future version. Please use 'DataFrame.transpose' instead.\n",
      "  return bound(*args, **kwds)\n"
     ]
    }
   ],
   "source": [
    "\n",
    "# Đọc dữ liệu\n",
    "df = pd.read_csv(\"level_2/flight_operating_day.csv\")\n",
    "\n",
    "# Số file muốn chia\n",
    "num_files = 5\n",
    "\n",
    "# Tách ra thành các phần đều nhau\n",
    "chunks = np.array_split(df, num_files)\n",
    "\n",
    "# Lưu từng phần\n",
    "for i, chunk in enumerate(chunks):\n",
    "    chunk.to_csv(f\"level_2/split_data/flight_operating_day_{i+1}.csv\", index=False)\n"
   ]
  },
  {
   "cell_type": "code",
   "execution_count": 7,
   "id": "20771111",
   "metadata": {},
   "outputs": [
    {
     "name": "stderr",
     "output_type": "stream",
     "text": [
      "C:\\Users\\huy37\\AppData\\Roaming\\Python\\Python312\\site-packages\\numpy\\core\\fromnumeric.py:59: FutureWarning: 'DataFrame.swapaxes' is deprecated and will be removed in a future version. Please use 'DataFrame.transpose' instead.\n",
      "  return bound(*args, **kwds)\n"
     ]
    }
   ],
   "source": [
    "\n",
    "# Đọc dữ liệu\n",
    "df = pd.read_csv(\"level_2/flight.csv\")\n",
    "\n",
    "# Số file muốn chia\n",
    "num_files = 5\n",
    "\n",
    "# Tách ra thành các phần đều nhau\n",
    "chunks = np.array_split(df, num_files)\n",
    "\n",
    "# Lưu từng phần\n",
    "for i, chunk in enumerate(chunks):\n",
    "    chunk.to_csv(f\"level_2/split_data/flight{i+1}.csv\", index=False)"
   ]
  },
  {
   "cell_type": "code",
   "execution_count": 4,
   "id": "d4c19c2b",
   "metadata": {},
   "outputs": [
    {
     "name": "stderr",
     "output_type": "stream",
     "text": [
      "C:\\Users\\huy37\\AppData\\Roaming\\Python\\Python312\\site-packages\\numpy\\core\\fromnumeric.py:59: FutureWarning: 'DataFrame.swapaxes' is deprecated and will be removed in a future version. Please use 'DataFrame.transpose' instead.\n",
      "  return bound(*args, **kwds)\n"
     ]
    }
   ],
   "source": [
    "\n",
    "# Đọc dữ liệu\n",
    "df = pd.read_csv(\"level_3/Itinerary_all_segments.csv\")\n",
    "\n",
    "# Số file muốn chia\n",
    "num_files = 5\n",
    "\n",
    "# Tách ra thành các phần đều nhau\n",
    "chunks = np.array_split(df, num_files)\n",
    "\n",
    "# Lưu từng phần\n",
    "for i, chunk in enumerate(chunks):\n",
    "    chunk.to_csv(f\"level_3/split_data/itinerary_{i+1}.csv\", index=False)"
   ]
  },
  {
   "cell_type": "code",
   "execution_count": 2,
   "id": "754dd8bc",
   "metadata": {},
   "outputs": [
    {
     "name": "stderr",
     "output_type": "stream",
     "text": [
      "C:\\Users\\huy37\\AppData\\Roaming\\Python\\Python312\\site-packages\\numpy\\core\\fromnumeric.py:59: FutureWarning: 'DataFrame.swapaxes' is deprecated and will be removed in a future version. Please use 'DataFrame.transpose' instead.\n",
      "  return bound(*args, **kwds)\n"
     ]
    }
   ],
   "source": [
    "\n",
    "# Đọc dữ liệu\n",
    "df = pd.read_csv(\"level_3/booking.csv\")\n",
    "\n",
    "# Số file muốn chia\n",
    "num_files = 5\n",
    "\n",
    "# Tách ra thành các phần đều nhau\n",
    "chunks = np.array_split(df, num_files)\n",
    "\n",
    "# Lưu từng phần\n",
    "for i, chunk in enumerate(chunks):\n",
    "    chunk.to_csv(f\"level_3/split_data/booking_{i+1}.csv\", index=False)"
   ]
  },
  {
   "cell_type": "code",
   "execution_count": 3,
   "id": "e265e48b",
   "metadata": {},
   "outputs": [
    {
     "name": "stderr",
     "output_type": "stream",
     "text": [
      "C:\\Users\\huy37\\AppData\\Roaming\\Python\\Python312\\site-packages\\numpy\\core\\fromnumeric.py:59: FutureWarning: 'DataFrame.swapaxes' is deprecated and will be removed in a future version. Please use 'DataFrame.transpose' instead.\n",
      "  return bound(*args, **kwds)\n"
     ]
    }
   ],
   "source": [
    "\n",
    "# Đọc dữ liệu\n",
    "df = pd.read_csv(\"level_3/aircraft_seat.csv\")\n",
    "\n",
    "# Số file muốn chia\n",
    "num_files = 5\n",
    "\n",
    "# Tách ra thành các phần đều nhau\n",
    "chunks = np.array_split(df, num_files)\n",
    "\n",
    "# Lưu từng phần\n",
    "for i, chunk in enumerate(chunks):\n",
    "    chunk.to_csv(f\"level_3/split_data/aircraft_seat_{i+1}.csv\", index=False)"
   ]
  }
 ],
 "metadata": {
  "kernelspec": {
   "display_name": "base",
   "language": "python",
   "name": "python3"
  },
  "language_info": {
   "codemirror_mode": {
    "name": "ipython",
    "version": 3
   },
   "file_extension": ".py",
   "mimetype": "text/x-python",
   "name": "python",
   "nbconvert_exporter": "python",
   "pygments_lexer": "ipython3",
   "version": "3.12.9"
  }
 },
 "nbformat": 4,
 "nbformat_minor": 5
}
