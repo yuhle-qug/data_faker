{
 "cells": [
  {
   "cell_type": "code",
   "execution_count": 2,
   "id": "a90fd75d",
   "metadata": {},
   "outputs": [
    {
     "name": "stdout",
     "output_type": "stream",
     "text": [
      "✅ Đã gộp 200 file vào level_4/FlightCrewAssignment\\OperationalFlightLeg_merged_001.csv\n",
      "✅ Đã gộp 200 file vào level_4/FlightCrewAssignment\\OperationalFlightLeg_merged_002.csv\n",
      "✅ Đã gộp 200 file vào level_4/FlightCrewAssignment\\OperationalFlightLeg_merged_003.csv\n",
      "✅ Đã gộp 200 file vào level_4/FlightCrewAssignment\\OperationalFlightLeg_merged_004.csv\n",
      "✅ Đã gộp 200 file vào level_4/FlightCrewAssignment\\OperationalFlightLeg_merged_005.csv\n",
      "✅ Đã gộp 200 file vào level_4/FlightCrewAssignment\\OperationalFlightLeg_merged_006.csv\n",
      "✅ Đã gộp 200 file vào level_4/FlightCrewAssignment\\OperationalFlightLeg_merged_007.csv\n",
      "✅ Đã gộp 200 file vào level_4/FlightCrewAssignment\\OperationalFlightLeg_merged_008.csv\n",
      "✅ Đã gộp 200 file vào level_4/FlightCrewAssignment\\OperationalFlightLeg_merged_009.csv\n",
      "✅ Đã gộp 200 file vào level_4/FlightCrewAssignment\\OperationalFlightLeg_merged_010.csv\n",
      "✅ Đã gộp 1 file vào level_4/FlightCrewAssignment\\OperationalFlightLeg_merged_011.csv\n"
     ]
    }
   ],
   "source": [
    "import os\n",
    "import csv\n",
    "import math\n",
    "\n",
    "def merge_csv_in_batches(input_folder, output_folder, batch_size=90):\n",
    "    files = sorted([f for f in os.listdir(input_folder) if f.endswith('.csv')])\n",
    "    total_files = len(files)\n",
    "    total_batches = math.ceil(total_files / batch_size)\n",
    "\n",
    "    if not os.path.exists(output_folder):\n",
    "        os.makedirs(output_folder)\n",
    "\n",
    "    for batch_num in range(total_batches):\n",
    "        batch_files = files[batch_num * batch_size : (batch_num + 1) * batch_size]\n",
    "        output_filename = f\"OperationalFlightLeg_merged_{str(batch_num + 1).zfill(3)}.csv\"\n",
    "        output_path = os.path.join(output_folder, output_filename)\n",
    "\n",
    "        header_written = False\n",
    "        with open(output_path, mode='w', newline='', encoding='utf-8') as outfile:\n",
    "            writer = None\n",
    "            for file in batch_files:\n",
    "                file_path = os.path.join(input_folder, file)\n",
    "                with open(file_path, mode='r', encoding='utf-8') as infile:\n",
    "                    reader = csv.reader(infile)\n",
    "                    header = next(reader)\n",
    "                    if not header_written:\n",
    "                        writer = csv.writer(outfile)\n",
    "                        writer.writerow(header)\n",
    "                        header_written = True\n",
    "                    writer.writerows(reader)\n",
    "\n",
    "        print(f\"✅ Đã gộp {len(batch_files)} file vào {output_path}\")\n",
    "\n",
    "# --- Chạy ---\n",
    "merge_csv_in_batches(\"level_4/split_FlightCrewAssignment\", \"level_4/FlightCrewAssignment\", batch_size=200)\n"
   ]
  }
 ],
 "metadata": {
  "kernelspec": {
   "display_name": "base",
   "language": "python",
   "name": "python3"
  },
  "language_info": {
   "codemirror_mode": {
    "name": "ipython",
    "version": 3
   },
   "file_extension": ".py",
   "mimetype": "text/x-python",
   "name": "python",
   "nbconvert_exporter": "python",
   "pygments_lexer": "ipython3",
   "version": "3.12.9"
  }
 },
 "nbformat": 4,
 "nbformat_minor": 5
}
