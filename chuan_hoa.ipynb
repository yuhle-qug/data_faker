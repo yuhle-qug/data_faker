{
 "cells": [
  {
   "cell_type": "code",
   "execution_count": 1,
   "id": "8ca819a2",
   "metadata": {},
   "outputs": [],
   "source": [
    "import csv\n",
    "import json"
   ]
  },
  {
   "cell_type": "code",
   "execution_count": 2,
   "id": "3f930dbe",
   "metadata": {},
   "outputs": [
    {
     "name": "stdout",
     "output_type": "stream",
     "text": [
      "Đã chuẩn hóa xong file và ghi vào: aircraft_seat_normalized.csv\n"
     ]
    }
   ],
   "source": [
    "input_file = 'aircraft_seat.csv'   # File CSV gốc\n",
    "output_file = 'aircraft_seat_normalized.csv'  # File xuất chuẩn hóa\n",
    "\n",
    "def normalize_boolean(value):\n",
    "    if value.lower() == 'true':\n",
    "        return '1'\n",
    "    elif value.lower() == 'false':\n",
    "        return '0'\n",
    "    return value\n",
    "\n",
    "with open(input_file, 'r', encoding='utf-8') as fin, \\\n",
    "     open(output_file, 'w', encoding='utf-8', newline='') as fout:\n",
    "    \n",
    "    reader = csv.DictReader(fin)\n",
    "    fieldnames = reader.fieldnames\n",
    "    writer = csv.DictWriter(fout, fieldnames=fieldnames)\n",
    "    writer.writeheader()\n",
    "    \n",
    "    for row in reader:\n",
    "        # Chuẩn hóa boolean các cột IsBlocked, IsExitRow (nếu có)\n",
    "        for col in ['IsBlocked', 'IsExitRow']:\n",
    "            if col in row:\n",
    "                row[col] = normalize_boolean(row[col])\n",
    "        \n",
    "        # Chuẩn hóa trường Characteristics\n",
    "        if 'Characteristics' in row and row['Characteristics']:\n",
    "            # Bỏ escape \"\" -> \" rồi parse JSON lại\n",
    "            try:\n",
    "                # Thay các \"\" thành \" để thành JSON chuẩn\n",
    "                json_str = row['Characteristics'].replace('\"\"', '\"')\n",
    "                # Tải lại JSON để kiểm tra đúng định dạng\n",
    "                parsed = json.loads(json_str)\n",
    "                # Ghi lại chuẩn JSON (chuỗi)\n",
    "                row['Characteristics'] = json.dumps(parsed, ensure_ascii=False)\n",
    "            except Exception as e:\n",
    "                print(f\"Warning: Lỗi xử lý JSON ở dòng {reader.line_num}: {e}\")\n",
    "                # Giữ nguyên nếu lỗi\n",
    "        \n",
    "        writer.writerow(row)\n",
    "\n",
    "print(f\"Đã chuẩn hóa xong file và ghi vào: {output_file}\")\n"
   ]
  }
 ],
 "metadata": {
  "kernelspec": {
   "display_name": "base",
   "language": "python",
   "name": "python3"
  },
  "language_info": {
   "codemirror_mode": {
    "name": "ipython",
    "version": 3
   },
   "file_extension": ".py",
   "mimetype": "text/x-python",
   "name": "python",
   "nbconvert_exporter": "python",
   "pygments_lexer": "ipython3",
   "version": "3.12.9"
  }
 },
 "nbformat": 4,
 "nbformat_minor": 5
}
