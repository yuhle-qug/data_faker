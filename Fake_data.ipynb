{
  "nbformat": 4,
  "nbformat_minor": 0,
  "metadata": {
    "colab": {
      "provenance": [],
      "gpuType": "T4"
    },
    "kernelspec": {
      "name": "python3",
      "display_name": "Python 3"
    },
    "language_info": {
      "name": "python"
    },
    "accelerator": "GPU"
  },
  "cells": [
    {
      "cell_type": "code",
      "source": [
        "import pandas as pd\n",
        "import os\n",
        "import random\n",
        "from datetime import datetime"
      ],
      "metadata": {
        "id": "PSpXJmSNFYW4"
      },
      "execution_count": 1,
      "outputs": []
    },
    {
      "source": [
        "import pandas as pd\n",
        "import os\n",
        "from datetime import datetime\n",
        "\n",
        "def generate_all_itineraries(flight_leg_df, max_legs=5):\n",
        "    sorted_df = flight_leg_df.sort_values(by='ScheduledDepartureDateTime').reset_index(drop=True)\n",
        "    itinerary_id = 1\n",
        "    total_rows = len(sorted_df)\n",
        "\n",
        "    for start_idx in range(total_rows):\n",
        "        current_chain = [sorted_df.iloc[start_idx]]\n",
        "\n",
        "        for next_idx in range(start_idx + 1, min(start_idx + max_legs, total_rows)):\n",
        "            prev_leg = current_chain[-1]\n",
        "            next_leg = sorted_df.iloc[next_idx]\n",
        "\n",
        "            # Kiểm tra tính nối tiếp: sân bay đến của leg trước == sân bay đi của leg sau\n",
        "            if prev_leg['ArrivalAirportID'] != next_leg['DepartureAirportID']:\n",
        "                break  # Dừng nếu không nối tiếp\n",
        "\n",
        "            current_chain.append(next_leg)\n",
        "\n",
        "            # Sinh hành trình nếu có ít nhất 2 chặng\n",
        "            if len(current_chain) >= 2:\n",
        "                origin = current_chain[0]['DepartureAirportID']\n",
        "                destination = current_chain[-1]['ArrivalAirportID']\n",
        "                via = \"-\".join(str(leg['ArrivalAirportID']) for leg in current_chain[:-1])\n",
        "                description = f\"{origin}-{destination} via {via}\"\n",
        "\n",
        "                yield {\n",
        "                    'ItineraryID': itinerary_id,\n",
        "                    'OriginAirportID': origin,\n",
        "                    'DestinationAirportID': destination,\n",
        "                    'NumberOfSegments': len(current_chain),\n",
        "                    'ItineraryDescription': description,\n",
        "                    'IsTemplate': random.choice([False, True]),\n",
        "                    'CreatedAt': int(datetime.utcnow().timestamp()),\n",
        "                    'UpdatedAt': int(datetime.utcnow().timestamp())\n",
        "                }\n",
        "                itinerary_id += 1\n",
        "\n",
        "def stream_generate_itineraries_all_combinations(flight_leg_csv, output_dir=\"generated_itineraries_full_new\", chunk_size=500):\n",
        "    os.makedirs(output_dir, exist_ok=True)\n",
        "\n",
        "    flight_leg_df = pd.read_csv(flight_leg_csv)\n",
        "    generator = generate_all_itineraries(flight_leg_df, max_legs=5)\n",
        "\n",
        "    buffer = []\n",
        "    file_index = 1\n",
        "\n",
        "    for itinerary in generator:\n",
        "        buffer.append(itinerary)\n",
        "        if len(buffer) >= chunk_size:\n",
        "            df = pd.DataFrame(buffer)\n",
        "            filename = os.path.join(output_dir, f\"Itinerary_part_{str(file_index).zfill(3)}.csv\")\n",
        "            df.to_csv(filename, index=False)\n",
        "            print(f\"✅ Ghi {len(buffer)} dòng vào {filename}\")\n",
        "            buffer = []\n",
        "            file_index += 1\n",
        "\n",
        "    if buffer:\n",
        "        df = pd.DataFrame(buffer)\n",
        "        filename = os.path.join(output_dir, f\"Itinerary_part_{str(file_index).zfill(3)}.csv\")\n",
        "        df.to_csv(filename, index=False)\n",
        "        print(f\"✅ Ghi {len(buffer)} dòng cuối vào {filename}\")\n",
        "\n",
        "# 📦 Gọi hàm chính\n",
        "stream_generate_itineraries_all_combinations(\"Data/OperationalFlightLeg_merged_001.csv\", chunk_size=500)\n"
      ],
      "cell_type": "code",
      "metadata": {
        "colab": {
          "base_uri": "https://localhost:8080/",
          "height": 351
        },
        "id": "giHI1KseBFyg",
        "outputId": "199fcf75-e6bb-4f28-c7a2-ec59e0766b7b"
      },
      "execution_count": 1,
      "outputs": [
        {
          "output_type": "error",
          "ename": "FileNotFoundError",
          "evalue": "[Errno 2] No such file or directory: 'Data/OperationalFlightLeg_merged_001.csv'",
          "traceback": [
            "\u001b[0;31m---------------------------------------------------------------------------\u001b[0m",
            "\u001b[0;31mFileNotFoundError\u001b[0m                         Traceback (most recent call last)",
            "\u001b[0;32m<ipython-input-1-6136b1a9282e>\u001b[0m in \u001b[0;36m<cell line: 0>\u001b[0;34m()\u001b[0m\n\u001b[1;32m     66\u001b[0m \u001b[0;34m\u001b[0m\u001b[0m\n\u001b[1;32m     67\u001b[0m \u001b[0;31m# 📦 Gọi hàm chính\u001b[0m\u001b[0;34m\u001b[0m\u001b[0;34m\u001b[0m\u001b[0m\n\u001b[0;32m---> 68\u001b[0;31m \u001b[0mstream_generate_itineraries_all_combinations\u001b[0m\u001b[0;34m(\u001b[0m\u001b[0;34m\"Data/OperationalFlightLeg_merged_001.csv\"\u001b[0m\u001b[0;34m,\u001b[0m \u001b[0mchunk_size\u001b[0m\u001b[0;34m=\u001b[0m\u001b[0;36m500\u001b[0m\u001b[0;34m)\u001b[0m\u001b[0;34m\u001b[0m\u001b[0;34m\u001b[0m\u001b[0m\n\u001b[0m",
            "\u001b[0;32m<ipython-input-1-6136b1a9282e>\u001b[0m in \u001b[0;36mstream_generate_itineraries_all_combinations\u001b[0;34m(flight_leg_csv, output_dir, chunk_size)\u001b[0m\n\u001b[1;32m     43\u001b[0m     \u001b[0mos\u001b[0m\u001b[0;34m.\u001b[0m\u001b[0mmakedirs\u001b[0m\u001b[0;34m(\u001b[0m\u001b[0moutput_dir\u001b[0m\u001b[0;34m,\u001b[0m \u001b[0mexist_ok\u001b[0m\u001b[0;34m=\u001b[0m\u001b[0;32mTrue\u001b[0m\u001b[0;34m)\u001b[0m\u001b[0;34m\u001b[0m\u001b[0;34m\u001b[0m\u001b[0m\n\u001b[1;32m     44\u001b[0m \u001b[0;34m\u001b[0m\u001b[0m\n\u001b[0;32m---> 45\u001b[0;31m     \u001b[0mflight_leg_df\u001b[0m \u001b[0;34m=\u001b[0m \u001b[0mpd\u001b[0m\u001b[0;34m.\u001b[0m\u001b[0mread_csv\u001b[0m\u001b[0;34m(\u001b[0m\u001b[0mflight_leg_csv\u001b[0m\u001b[0;34m)\u001b[0m\u001b[0;34m\u001b[0m\u001b[0;34m\u001b[0m\u001b[0m\n\u001b[0m\u001b[1;32m     46\u001b[0m     \u001b[0mgenerator\u001b[0m \u001b[0;34m=\u001b[0m \u001b[0mgenerate_all_itineraries\u001b[0m\u001b[0;34m(\u001b[0m\u001b[0mflight_leg_df\u001b[0m\u001b[0;34m,\u001b[0m \u001b[0mmax_legs\u001b[0m\u001b[0;34m=\u001b[0m\u001b[0;36m5\u001b[0m\u001b[0;34m)\u001b[0m\u001b[0;34m\u001b[0m\u001b[0;34m\u001b[0m\u001b[0m\n\u001b[1;32m     47\u001b[0m \u001b[0;34m\u001b[0m\u001b[0m\n",
            "\u001b[0;32m/usr/local/lib/python3.11/dist-packages/pandas/io/parsers/readers.py\u001b[0m in \u001b[0;36mread_csv\u001b[0;34m(filepath_or_buffer, sep, delimiter, header, names, index_col, usecols, dtype, engine, converters, true_values, false_values, skipinitialspace, skiprows, skipfooter, nrows, na_values, keep_default_na, na_filter, verbose, skip_blank_lines, parse_dates, infer_datetime_format, keep_date_col, date_parser, date_format, dayfirst, cache_dates, iterator, chunksize, compression, thousands, decimal, lineterminator, quotechar, quoting, doublequote, escapechar, comment, encoding, encoding_errors, dialect, on_bad_lines, delim_whitespace, low_memory, memory_map, float_precision, storage_options, dtype_backend)\u001b[0m\n\u001b[1;32m   1024\u001b[0m     \u001b[0mkwds\u001b[0m\u001b[0;34m.\u001b[0m\u001b[0mupdate\u001b[0m\u001b[0;34m(\u001b[0m\u001b[0mkwds_defaults\u001b[0m\u001b[0;34m)\u001b[0m\u001b[0;34m\u001b[0m\u001b[0;34m\u001b[0m\u001b[0m\n\u001b[1;32m   1025\u001b[0m \u001b[0;34m\u001b[0m\u001b[0m\n\u001b[0;32m-> 1026\u001b[0;31m     \u001b[0;32mreturn\u001b[0m \u001b[0m_read\u001b[0m\u001b[0;34m(\u001b[0m\u001b[0mfilepath_or_buffer\u001b[0m\u001b[0;34m,\u001b[0m \u001b[0mkwds\u001b[0m\u001b[0;34m)\u001b[0m\u001b[0;34m\u001b[0m\u001b[0;34m\u001b[0m\u001b[0m\n\u001b[0m\u001b[1;32m   1027\u001b[0m \u001b[0;34m\u001b[0m\u001b[0m\n\u001b[1;32m   1028\u001b[0m \u001b[0;34m\u001b[0m\u001b[0m\n",
            "\u001b[0;32m/usr/local/lib/python3.11/dist-packages/pandas/io/parsers/readers.py\u001b[0m in \u001b[0;36m_read\u001b[0;34m(filepath_or_buffer, kwds)\u001b[0m\n\u001b[1;32m    618\u001b[0m \u001b[0;34m\u001b[0m\u001b[0m\n\u001b[1;32m    619\u001b[0m     \u001b[0;31m# Create the parser.\u001b[0m\u001b[0;34m\u001b[0m\u001b[0;34m\u001b[0m\u001b[0m\n\u001b[0;32m--> 620\u001b[0;31m     \u001b[0mparser\u001b[0m \u001b[0;34m=\u001b[0m \u001b[0mTextFileReader\u001b[0m\u001b[0;34m(\u001b[0m\u001b[0mfilepath_or_buffer\u001b[0m\u001b[0;34m,\u001b[0m \u001b[0;34m**\u001b[0m\u001b[0mkwds\u001b[0m\u001b[0;34m)\u001b[0m\u001b[0;34m\u001b[0m\u001b[0;34m\u001b[0m\u001b[0m\n\u001b[0m\u001b[1;32m    621\u001b[0m \u001b[0;34m\u001b[0m\u001b[0m\n\u001b[1;32m    622\u001b[0m     \u001b[0;32mif\u001b[0m \u001b[0mchunksize\u001b[0m \u001b[0;32mor\u001b[0m \u001b[0miterator\u001b[0m\u001b[0;34m:\u001b[0m\u001b[0;34m\u001b[0m\u001b[0;34m\u001b[0m\u001b[0m\n",
            "\u001b[0;32m/usr/local/lib/python3.11/dist-packages/pandas/io/parsers/readers.py\u001b[0m in \u001b[0;36m__init__\u001b[0;34m(self, f, engine, **kwds)\u001b[0m\n\u001b[1;32m   1618\u001b[0m \u001b[0;34m\u001b[0m\u001b[0m\n\u001b[1;32m   1619\u001b[0m         \u001b[0mself\u001b[0m\u001b[0;34m.\u001b[0m\u001b[0mhandles\u001b[0m\u001b[0;34m:\u001b[0m \u001b[0mIOHandles\u001b[0m \u001b[0;34m|\u001b[0m \u001b[0;32mNone\u001b[0m \u001b[0;34m=\u001b[0m \u001b[0;32mNone\u001b[0m\u001b[0;34m\u001b[0m\u001b[0;34m\u001b[0m\u001b[0m\n\u001b[0;32m-> 1620\u001b[0;31m         \u001b[0mself\u001b[0m\u001b[0;34m.\u001b[0m\u001b[0m_engine\u001b[0m \u001b[0;34m=\u001b[0m \u001b[0mself\u001b[0m\u001b[0;34m.\u001b[0m\u001b[0m_make_engine\u001b[0m\u001b[0;34m(\u001b[0m\u001b[0mf\u001b[0m\u001b[0;34m,\u001b[0m \u001b[0mself\u001b[0m\u001b[0;34m.\u001b[0m\u001b[0mengine\u001b[0m\u001b[0;34m)\u001b[0m\u001b[0;34m\u001b[0m\u001b[0;34m\u001b[0m\u001b[0m\n\u001b[0m\u001b[1;32m   1621\u001b[0m \u001b[0;34m\u001b[0m\u001b[0m\n\u001b[1;32m   1622\u001b[0m     \u001b[0;32mdef\u001b[0m \u001b[0mclose\u001b[0m\u001b[0;34m(\u001b[0m\u001b[0mself\u001b[0m\u001b[0;34m)\u001b[0m \u001b[0;34m->\u001b[0m \u001b[0;32mNone\u001b[0m\u001b[0;34m:\u001b[0m\u001b[0;34m\u001b[0m\u001b[0;34m\u001b[0m\u001b[0m\n",
            "\u001b[0;32m/usr/local/lib/python3.11/dist-packages/pandas/io/parsers/readers.py\u001b[0m in \u001b[0;36m_make_engine\u001b[0;34m(self, f, engine)\u001b[0m\n\u001b[1;32m   1878\u001b[0m                 \u001b[0;32mif\u001b[0m \u001b[0;34m\"b\"\u001b[0m \u001b[0;32mnot\u001b[0m \u001b[0;32min\u001b[0m \u001b[0mmode\u001b[0m\u001b[0;34m:\u001b[0m\u001b[0;34m\u001b[0m\u001b[0;34m\u001b[0m\u001b[0m\n\u001b[1;32m   1879\u001b[0m                     \u001b[0mmode\u001b[0m \u001b[0;34m+=\u001b[0m \u001b[0;34m\"b\"\u001b[0m\u001b[0;34m\u001b[0m\u001b[0;34m\u001b[0m\u001b[0m\n\u001b[0;32m-> 1880\u001b[0;31m             self.handles = get_handle(\n\u001b[0m\u001b[1;32m   1881\u001b[0m                 \u001b[0mf\u001b[0m\u001b[0;34m,\u001b[0m\u001b[0;34m\u001b[0m\u001b[0;34m\u001b[0m\u001b[0m\n\u001b[1;32m   1882\u001b[0m                 \u001b[0mmode\u001b[0m\u001b[0;34m,\u001b[0m\u001b[0;34m\u001b[0m\u001b[0;34m\u001b[0m\u001b[0m\n",
            "\u001b[0;32m/usr/local/lib/python3.11/dist-packages/pandas/io/common.py\u001b[0m in \u001b[0;36mget_handle\u001b[0;34m(path_or_buf, mode, encoding, compression, memory_map, is_text, errors, storage_options)\u001b[0m\n\u001b[1;32m    871\u001b[0m         \u001b[0;32mif\u001b[0m \u001b[0mioargs\u001b[0m\u001b[0;34m.\u001b[0m\u001b[0mencoding\u001b[0m \u001b[0;32mand\u001b[0m \u001b[0;34m\"b\"\u001b[0m \u001b[0;32mnot\u001b[0m \u001b[0;32min\u001b[0m \u001b[0mioargs\u001b[0m\u001b[0;34m.\u001b[0m\u001b[0mmode\u001b[0m\u001b[0;34m:\u001b[0m\u001b[0;34m\u001b[0m\u001b[0;34m\u001b[0m\u001b[0m\n\u001b[1;32m    872\u001b[0m             \u001b[0;31m# Encoding\u001b[0m\u001b[0;34m\u001b[0m\u001b[0;34m\u001b[0m\u001b[0m\n\u001b[0;32m--> 873\u001b[0;31m             handle = open(\n\u001b[0m\u001b[1;32m    874\u001b[0m                 \u001b[0mhandle\u001b[0m\u001b[0;34m,\u001b[0m\u001b[0;34m\u001b[0m\u001b[0;34m\u001b[0m\u001b[0m\n\u001b[1;32m    875\u001b[0m                 \u001b[0mioargs\u001b[0m\u001b[0;34m.\u001b[0m\u001b[0mmode\u001b[0m\u001b[0;34m,\u001b[0m\u001b[0;34m\u001b[0m\u001b[0;34m\u001b[0m\u001b[0m\n",
            "\u001b[0;31mFileNotFoundError\u001b[0m: [Errno 2] No such file or directory: 'Data/OperationalFlightLeg_merged_001.csv'"
          ]
        }
      ]
    },
    {
      "cell_type": "code",
      "source": [
        "import pandas as pd\n",
        "\n",
        "# Load dữ liệu leg\n",
        "df = pd.read_csv(\"Data/OperationalFlightLeg_merged_001.csv\")\n",
        "\n",
        "# Danh sách các sân bay theo thứ tự\n",
        "airport_sequence = [6765, 1105, 10138, 11347]\n",
        "\n",
        "# Tạo danh sách các cặp chặng cần kiểm tra\n",
        "segments_to_check = list(zip(airport_sequence[:-1], airport_sequence[1:]))\n",
        "\n",
        "# Kiểm tra từng chặng\n",
        "missing_segments = []\n",
        "\n",
        "for dep, arr in segments_to_check:\n",
        "    match = df[\n",
        "        (df[\"DepartureAirportID\"] == dep) &\n",
        "        (df[\"ArrivalAirportID\"] == arr)\n",
        "    ]\n",
        "    if match.empty:\n",
        "        missing_segments.append((dep, arr))\n",
        "\n",
        "# In kết quả\n",
        "if not missing_segments:\n",
        "    print(\"✅ Tất cả 4 chặng đều tồn tại trong bảng OperationalFlightLeg.\")\n",
        "else:\n",
        "    print(\"❌ Các chặng sau KHÔNG tồn tại:\")\n",
        "    for dep, arr in missing_segments:\n",
        "        print(f\"  - {dep} ➝ {arr}\")\n"
      ],
      "metadata": {
        "colab": {
          "base_uri": "https://localhost:8080/"
        },
        "id": "bXgKOUk0D-Es",
        "outputId": "f4fadcdd-339b-4728-8a51-716ab82a5de9"
      },
      "execution_count": 5,
      "outputs": [
        {
          "output_type": "stream",
          "name": "stdout",
          "text": [
            "❌ Các chặng sau KHÔNG tồn tại:\n",
            "  - 1105 ➝ 10138\n",
            "  - 10138 ➝ 11347\n"
          ]
        }
      ]
    }
  ]
}